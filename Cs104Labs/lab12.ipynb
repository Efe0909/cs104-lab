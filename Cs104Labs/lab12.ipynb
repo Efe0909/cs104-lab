{
 "cells": [
  {
   "cell_type": "markdown",
   "id": "5e7ce9da",
   "metadata": {},
   "source": [
    "# CS 104 Spring 2024 - Lab Assignments - Week 12 - Assignment 10"
   ]
  },
  {
   "cell_type": "markdown",
   "id": "942a5c46",
   "metadata": {},
   "source": [
    "Your programs should start with the following comments: \n",
    "\n",
    "    (do not forget to change “[Your Fullname]” with your name, and “[short description]” \n",
    "     to a sentence that highlights the task to be performed by the program) \n",
    "your outputs as given in the exercise.\n",
    "\n",
    "# [Kadir Efe Atçalı], CS 104, LAB Week 12, Assignment 10\n"
   ]
  },
  {
   "cell_type": "markdown",
   "id": "00e1b93e",
   "metadata": {},
   "source": [
    "### Exercise 1: \n",
    "\n",
    "Write a function that implements linear search on a given list. This function should take a number to be searched in the list, and the list itself as its inputs and returns true if the number is found in the list, otherwise returns false. \n",
    "\n",
    "You also need to measure the time needed to run this function. For that purpose, you should create a list that contains 10,000 random elements in it (hint: you can use random.randint() function from random module). \n"
   ]
  },
  {
   "cell_type": "code",
   "id": "423c3574",
   "metadata": {
    "ExecuteTime": {
     "end_time": "2024-05-07T10:14:21.567836Z",
     "start_time": "2024-05-07T10:14:21.547098Z"
    }
   },
   "source": [
    "# Your answer for Exercise 1\n",
    "import random\n",
    "from timeit import timeit\n",
    "data = [random.randint(1,100_000) for _ in range(10_000)]\n",
    "\n",
    "def find(n:int, data: list[int])->int:\n",
    "    for number in data:\n",
    "        if number == n:\n",
    "            return True\n",
    "    else: return False\n",
    "    \n",
    "print(find(10,data), timeit(lambda: find(10, data), number=1))"
   ],
   "outputs": [
    {
     "name": "stdout",
     "output_type": "stream",
     "text": [
      "False 0.0003409999771974981\n"
     ]
    }
   ],
   "execution_count": 7
  },
  {
   "cell_type": "markdown",
   "id": "e3c55b63",
   "metadata": {},
   "source": [
    "### Exercise 2: \n",
    "\n",
    "Assume that you are given a sorted list of strings called string_list, and a target string called target. Implement a Python function binary_search_string(string_list, target) that performs a binary search to find the index of the target string in the given list. If the target string is found, the function should return its index; otherwise, it should return -1.\n",
    "\n",
    "Ensure that your function handles cases where the target string is not present in the list properly, returning -1 for such cases. Additionally, remember to consider the list being sorted in lexicographical order (i.e. apple exist in lower indexes in the list than banana which exist in higher indexes in the list)."
   ]
  },
  {
   "cell_type": "code",
   "id": "9026a30a",
   "metadata": {
    "ExecuteTime": {
     "end_time": "2024-05-07T10:48:25.326126Z",
     "start_time": "2024-05-07T10:48:25.316057Z"
    }
   },
   "source": [
    "# Your answer for Exercise 2\n",
    "\n",
    "def binary_search_string(*, str_list: list[str], targ: str) -> int:\n",
    "    low = 0\n",
    "    high = len(str_list) - 1\n",
    "    \n",
    "    while low <= high:\n",
    "        mid = (low + high) // 2\n",
    "        if targ < str_list[mid]:\n",
    "            high = mid - 1\n",
    "        elif targ > str_list[mid]:\n",
    "            low = mid + 1\n",
    "        else:\n",
    "            return mid\n",
    "    return -1\n",
    "\n",
    "# Example usage:\n",
    "string_list = [\"apple\", \"apricot\", \"avocado\", \"banana\", \"cherry\", \"melon\", \"paisley\", \"watermelon\"]\n",
    "target = \"banana\"\n",
    "print(binary_search_string(str_list=string_list, targ=target))  # Output: 3\n"
   ],
   "outputs": [
    {
     "name": "stdout",
     "output_type": "stream",
     "text": [
      "3\n"
     ]
    }
   ],
   "execution_count": 29
  },
  {
   "cell_type": "markdown",
   "id": "a6c9b327",
   "metadata": {},
   "source": [
    "### Exercise 3: \n",
    "\n",
    "Write the recursive version of the code that you wrote in Exercise 2. Hint: Your function signature should be as follows: binary_search_string(string_list, target, low, high)."
   ]
  },
  {
   "cell_type": "code",
   "id": "4130cb05",
   "metadata": {
    "ExecuteTime": {
     "end_time": "2024-05-07T10:46:36.361960Z",
     "start_time": "2024-05-07T10:46:36.353697Z"
    }
   },
   "source": [
    "def binary_search_string(string_list, target, low, high):\n",
    "    if low <= high:\n",
    "        mid = low + (high - low) // 2  \n",
    "        if target == string_list[mid]:\n",
    "            return mid\n",
    "        elif target < string_list[mid]:\n",
    "            return binary_search_string(string_list, target, low, mid - 1)\n",
    "        else:\n",
    "            return binary_search_string(string_list, target, mid + 1, high)  \n",
    "    else:\n",
    "        return -1 \n",
    "\n",
    "# Example usage:\n",
    "string_list = [\"apple\", \"apricot\", \"avocado\", \"banana\", \"cherry\", \"melon\", \"paisley\", \"watermelon\"]\n",
    "target = \"banana\"\n",
    "print(binary_search_string(string_list, target, 0, len(string_list) - 1))  # Output: 3\n"
   ],
   "outputs": [
    {
     "name": "stdout",
     "output_type": "stream",
     "text": [
      "3\n"
     ]
    }
   ],
   "execution_count": 25
  },
  {
   "metadata": {},
   "cell_type": "code",
   "outputs": [],
   "execution_count": null,
   "source": "",
   "id": "5c180005414268a1"
  }
 ],
 "metadata": {
  "kernelspec": {
   "display_name": "Python 3 (ipykernel)",
   "language": "python",
   "name": "python3"
  },
  "language_info": {
   "codemirror_mode": {
    "name": "ipython",
    "version": 3
   },
   "file_extension": ".py",
   "mimetype": "text/x-python",
   "name": "python",
   "nbconvert_exporter": "python",
   "pygments_lexer": "ipython3",
   "version": "3.9.15"
  }
 },
 "nbformat": 4,
 "nbformat_minor": 5
}
