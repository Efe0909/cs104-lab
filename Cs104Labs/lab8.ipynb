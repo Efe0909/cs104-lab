{
 "cells": [
  {
   "cell_type": "markdown",
   "id": "9a960ae4",
   "metadata": {},
   "source": [
    "# Özyeğin University\n",
    "# CS 104, Week-8 Lab exercises\n",
    "\n",
    "\"Enter your Full Name Here\"\n",
    "\n",
    "\"Enter your Student ID here\""
   ]
  },
  {
   "cell_type": "markdown",
   "id": "fa77bfe5",
   "metadata": {},
   "source": [
    "\n",
    "### Exercise 1\n",
    "Write a Python program to create **a list of tuples** from a **given list of numbers**. The output should be a **list of tuples** where each tuple contains two elements: the original number and its square. **Use list comprehension to create the list of tuples**.\n"
   ]
  },
  {
   "cell_type": "code",
   "execution_count": 1,
   "id": "96bb108d",
   "metadata": {},
   "outputs": [
    {
     "name": "stdout",
     "output_type": "stream",
     "text": [
      "your output\n",
      "[(1, 1), (2, 4), (3, 9), (4, 16), (5, 25)]\n",
      "Correct output\n",
      "[(1, 1), (2, 4), (3, 9), (4, 16), (5, 25)]\n"
     ]
    }
   ],
   "source": [
    "# Write your program in this cell for Exercise 1.\n",
    "#\n",
    "numbers = [1, 2, 3, 4, 5]\n",
    "\n",
    "#Enter ONE LINE OF CODE below as your solution for the variable: mylistoftuples\n",
    "\n",
    "listOfTuples = [(i, i ** 2) for i in numbers]\n",
    "\n",
    "print(\"your output\")\n",
    "print(listOfTuples) # Print your output here. \n",
    "\n",
    "# Output should be as follows: \n",
    "print(\"Correct output\")\n",
    "print([(1, 1), (2, 4), (3, 9), (4, 16), (5, 25)])"
   ]
  },
  {
   "cell_type": "markdown",
   "id": "940374d9",
   "metadata": {},
   "source": [
    "### Exercise 2\n",
    "\n",
    "You are given two tuples and each tuple contains only integer numbers as its elements. You need to find all the elements (also as a tuple) which are not contained by both tuples. Write a function difference_tuples(tup1, tup2) doing that job first (where your function will take two tuples as its input, and it will return the tuple of the elements that does not exist in both tuples).\n",
    "\n",
    "For example for the given two tuples tup1 and tup2:\n",
    "\n",
    "tup1 = (1, 2, 3, 4, 5)\n",
    "\n",
    "tup2 = (3, 4, 5, 6)\n",
    "\n",
    "your function difference_tuples(tup1, tup2) should return (1,2,6) as its output. Your program will call difference_tuples(tup1, tup2) where both tuples are given by the user (use input function for that)."
   ]
  },
  {
   "cell_type": "code",
   "execution_count": 10,
   "id": "903afa64",
   "metadata": {},
   "outputs": [
    {
     "name": "stdout",
     "output_type": "stream",
     "text": [
      "enter first tuple(2,5,6,9,7)\n",
      "enter second tuple(3,6,7)\n",
      "The first tuple:  ('2', '5', '6', '9', '7')\n",
      "The second tuple:  ('3', '6', '7')\n",
      "('2', '5', '9', '3')\n"
     ]
    }
   ],
   "source": [
    "# Solution for Exercise 2:\n",
    "tuple1 = tuple(input(\"enter first tuple\").split(','))  # Get the size and the elements of this tuple from the user\n",
    "\n",
    "tuple2 = tuple(input(\"enter first tuple\").split(','))  # Get the size and the elements of this tuple from the user\n",
    "def tuple_difference(t1,t2):\n",
    "    return t1 ^ t2 # {^} (symmetric difference) operator between two collection gives the unique elements from both collection, it can be used with tuples sets lists\n",
    "     \n",
    "print(\"The first tuple: \", tuple1)\n",
    "print(\"The second tuple: \",tuple2)\n",
    "difference = tuple_difference(tuple1, tuple2) # Define a function with the name: tuple_difference() first which returns the difference as a tuple\n",
    "print(difference)\n",
    "    "
   ]
  },
  {
   "cell_type": "markdown",
   "id": "ea22d67a",
   "metadata": {},
   "source": [
    "### Exercise 3\n",
    "Create a Python program to manage a grade book. The program should use **only a single list of tuples**.\n",
    "\n",
    "- Create a list of tuples.\n",
    "- Create a loop that asks the user for the name and grade of a student until the user enters \"q\" to quit. For each student, append their name and grade as a tuple to the list of tuples. \n",
    "- After the list is created, find the students with grades above 90 and calculate the average score **and that computation must be done with list comprehension**\n",
    "\n",
    "Note: Make sure to handle errors such as invalid input from the user.\n",
    "\n",
    "**IMPORTANT: If you use two lists to store student names and grades your score will be 0**\n"
   ]
  },
  {
   "cell_type": "code",
   "execution_count": 11,
   "id": "257c7e9c",
   "metadata": {},
   "outputs": [
    {
     "name": "stdout",
     "output_type": "stream",
     "text": [
      "Enter name: a\n",
      "Enter grade: 10p\n",
      "invalid grade\n",
      "Enter name: a\n",
      "Enter grade: 100\n",
      "Enter name: b\n",
      "Enter grade: 60\n",
      "Enter name: c\n",
      "Enter grade: 89\n",
      "Enter name: q\n",
      "grater then 90:  ['a']\n",
      "avarage:  83.0\n"
     ]
    }
   ],
   "source": [
    "list=[]\n",
    "\n",
    "while True:\n",
    "    name=input(\"Enter name: \")\n",
    "    if name == \"q\":\n",
    "        break\n",
    "    grade=input(\"Enter grade: \")\n",
    "    if grade.isdigit(): # .isdigit() method returns true if the given string variable only made up off numbers\n",
    "        grade= int(grade)\n",
    "        list.append((name,grade))\n",
    "    else: \n",
    "        print(\"invalid grade\")\n",
    "    \n",
    "print(\"grater then 90: \", [i[0] for i in list if i[1]>= 90 ])\n",
    "print(\"avarage: \",sum([i[1] for i in list])/len(list))\n",
    "\n",
    "    "
   ]
  },
  {
   "cell_type": "code",
   "execution_count": null,
   "id": "927e7d8a",
   "metadata": {},
   "outputs": [],
   "source": []
  }
 ],
 "metadata": {
  "kernelspec": {
   "display_name": "Python 3 (ipykernel)",
   "language": "python",
   "name": "python3"
  },
  "language_info": {
   "codemirror_mode": {
    "name": "ipython",
    "version": 3
   },
   "file_extension": ".py",
   "mimetype": "text/x-python",
   "name": "python",
   "nbconvert_exporter": "python",
   "pygments_lexer": "ipython3",
   "version": "3.11.5"
  }
 },
 "nbformat": 4,
 "nbformat_minor": 5
}
