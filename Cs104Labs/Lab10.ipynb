{
 "cells": [
  {
   "cell_type": "markdown",
   "id": "83c9e566",
   "metadata": {},
   "source": [
    "# CS 104 Lab: Sets and Dictionaries\n"
   ]
  },
  {
   "cell_type": "markdown",
   "id": "4e59cf31",
   "metadata": {},
   "source": [
    "### Exercise 1 (sets)\n",
    "\n",
    "You love food and want to create a set of your favorite foods. However, you want to ensure that each food item appears only once in the set. Additionally, you want to find the union and intersection of your favorite foods with your friend's favorite foods. To accomplish this, you decide to use sets.\n",
    "Instructions:\n",
    "\n",
    "- Create two sets: my_favorites and friend_favorites, and populate them with some food items that you and your friend both enjoy.\n",
    "- Create a new set that contains all of your favorite foods that your friend doesn't like.\n",
    "- Using set methods, find the union of my_favorites and friend_favorites.\n",
    "- Using set methods, find the intersection of my_favorites and friend_favorites.\n",
    "- Print out the sets in a nicely formatted way to show the results.\n",
    "\n",
    "Example Output: \n",
    "```python\n",
    "My Favorites: {'sushi', 'ramen', 'pizza', 'tacos'}\n",
    "Friend Favorites: {'sushi', 'tacos', 'steak'}\n",
    "Only I Like: {'ramen', 'pizza'}\n",
    "Favorites in Common: {'sushi', 'tacos'}\n",
    "All Favorites: {'sushi', 'ramen', 'pizza', 'tacos', 'steak'}\n",
    "    \n",
    "```\n"
   ]
  },
  {
   "cell_type": "code",
   "execution_count": 7,
   "id": "cc7fac1e",
   "metadata": {},
   "outputs": [
    {
     "name": "stdout",
     "output_type": "stream",
     "text": [
      "all favorites are: {'sushi', 'ramen', 'pizza', 'tacos', 'steak'}\n",
      "common favorites are: {'sushi', 'tacos'}\n"
     ]
    }
   ],
   "source": [
    "# Write your program in this cell for Exercise 2.\n",
    "\n",
    "\n",
    "# Define the sets with some favorite foods\n",
    "my_favorites = {'sushi', 'ramen', 'pizza', 'tacos'}\n",
    "friend_favorites = {'sushi', 'tacos', 'steak'}\n",
    "\n",
    "# Complete this code...\n",
    "# .union([other]) and .intersact([other]) are built in set methods\n",
    "# they are equivalent to '|' (or),  '&' (and) operators  respectively\n",
    "# usage (1, 2, 3) & (2, 4) >>> (2)\n",
    "# usage (1, 2, 3) | (2, 4) >>> (1, 2, 3, 4)\n",
    "print(f\"all favorites are: {my_favorites.union(friend_favorites)}\")\n",
    "print(f\"common favorites are: {my_favorites.intersection(friend_favorites)}\")"
   ]
  },
  {
   "cell_type": "markdown",
   "id": "cc8401e2",
   "metadata": {},
   "source": [
    "### Exercise 2 (sets)\n",
    "You have a list of tuples representing the sales data for a company's products. Each tuple contains the product name, the quantity sold, and the price per unit.\n",
    "\n",
    "```python\n",
    "\n",
    "sales_data = [('apple', 10, 0.99), ('banana', 20, 1.50), ('orange', 15, 1.25), ('apple', 5, 0.99), ('orange', 10, 1.25), ('grape', 30, 2.00)]\n",
    "\n",
    "```\n",
    "Write a Python program that uses sets of tuples to perform the following tasks:\n",
    "- Create a set of unique product names from the sales data.\n",
    "- Create a set of tuples where each tuple contains the product name and the total revenue for that product (quantity sold times price per unit).\n",
    "- Print the set of unique product names and the set of tuples with product name and revenue in a readable format.\n",
    "\n",
    "Example output: \n",
    "\n",
    "```python \n",
    "Unique product names: {'apple', 'banana', 'orange', 'grape'}\n",
    "Product name and revenue: {('apple', 14.85), ('banana', 30.0), ('orange', 31.25), ('grape', 60.0)}\n",
    "\n",
    "\n",
    "```\n"
   ]
  },
  {
   "cell_type": "code",
   "execution_count": 8,
   "id": "89fe638c",
   "metadata": {},
   "outputs": [
    {
     "name": "stdout",
     "output_type": "stream",
     "text": [
      "Unique product names: {'apple', 'grape', 'orange', 'banana'}\n",
      "Product name and revenue: {('apple', 14.850000000000001), ('grape', 60.0), ('orange', 31.25), ('banana', 30.0)}\n"
     ]
    }
   ],
   "source": [
    "# Write your program in this cell for Exercise 2.\n",
    "sales_data = [\n",
    "    ('apple' , 10, 0.99),\n",
    "    ('banana', 20, 1.50),\n",
    "    ('orange', 15, 1.25),\n",
    "    ('apple' , 5 , 0.99),\n",
    "    ('orange', 10, 1.25),\n",
    "    ('grape' , 30, 2.00)\n",
    "]\n",
    "\n",
    "t1 = {data[0] for data in sales_data}\n",
    "revenues = {}\n",
    "\n",
    "for product, amount, price in sales_data:\n",
    "    revenue = amount * price\n",
    "    if product in revenues:\n",
    "        revenues[product] += revenue\n",
    "    else:\n",
    "        revenues[product] = revenue\n",
    "\n",
    "t2 = set((product, revenue) for product, revenue in revenues.items())\n",
    "\n",
    "print(\"Unique product names:\", t1)\n",
    "print(\"Product name and revenue:\", t2)"
   ]
  },
  {
   "cell_type": "markdown",
   "id": "50f90d1a",
   "metadata": {},
   "source": [
    "### Exercise 3: Updating stock values for vegetables (Dictionary problem)\n",
    "\n",
    "For this question, consider the following dictionary representing the stock of items in a grocery store:\n",
    "\n",
    "```python\n",
    "stock = {\n",
    "    \"apples\": 30,\n",
    "    \"bananas\": 45,\n",
    "    \"oranges\": 25,\n",
    "    \"pears\": 12\n",
    "}\n",
    "```\n",
    "Write a Python function named update_stock that takes two arguments:\n",
    "\n",
    "1) item: a string representing the name of the item.\n",
    "\n",
    "2) amount: an integer representing the amount to be added to the item's stock. If the amount is negative, the stock should be reduced.\n",
    "\n",
    "The function should update the stock of the given item in the dictionary. If the item does not exist in the dictionary, the function should add it with the provided amount. The function should then print the updated stock level of the item.\n",
    "\n",
    "Example function call and output:\n",
    "\n",
    "\n",
    "```python\n",
    "update_stock(\"apples\", 5)\n",
    "# Output: \"Updated stock of apples: 35\"\n",
    "\n",
    "update_stock(\"cherries\", 20)\n",
    "# Output: \"Updated stock of cherries: 20\"\n",
    "\n",
    "```\n",
    "\n",
    "Assume that the amount for reduction will not reduce the stock below zero. If a negative amount is given that exceeds the current stock, the stock should be set to zero.\n",
    "\n",
    "\n",
    "\n"
   ]
  },
  {
   "cell_type": "code",
   "execution_count": 11,
   "id": "62525787",
   "metadata": {},
   "outputs": [
    {
     "name": "stdout",
     "output_type": "stream",
     "text": [
      "Updated stock of apples: 35\n",
      "Updated stock of cherries: 20\n"
     ]
    }
   ],
   "source": [
    "# Solve Exercise 3 below\n",
    "# In this exercise you only need to complete the function definition given below. \n",
    "\n",
    "stock = {\n",
    "    \"apples\": 30,\n",
    "    \"bananas\": 45,\n",
    "    \"oranges\": 25,\n",
    "    \"pears\": 12\n",
    "}\n",
    "\n",
    "\n",
    "def update_stock(item: str, amount: int):\n",
    "    global stock   # normally functions can use the variables outside of it but cant change them \n",
    "    # global keyword allows them to change the functions\n",
    "\n",
    "    if item in stock:\n",
    "        temp = stock[item]\n",
    "        stock.update({item: temp + amount})\n",
    "    else:\n",
    "        stock |= {item: amount} # it is same with .update() method\n",
    "    print(f\"Updated stock of {item}: {stock[item]}\")\n",
    "\n",
    "\n",
    "# Example usage of the function\n",
    "\n",
    "update_stock(\"apples\", 5)  # This should print \"Updated stock of apples: 35\"\n",
    "update_stock(\"cherries\", 20)  # This should print \"Updated stock of cherries: 20\"\n",
    "\n"
   ]
  },
  {
   "cell_type": "markdown",
   "id": "b30746f7",
   "metadata": {},
   "source": [
    "### Exercise 4: Weather Data Aggregator (Dictionary problem)</font>\n",
    "Background:\n",
    "You are developing a software application that aggregates daily weather data from multiple sources to provide a consolidated daily report. Each source provides daily weather metrics like temperature, humidity, and wind speed, but the data might arrive in different formats or units.\n",
    "\n",
    "Problem Statement:\n",
    "Implement a Python function aggregate_weather_data(daily_reports) that combines and standardizes data from various sources into a single report for each day.\n",
    "\n",
    "Details:\n",
    "\n",
    "Each item in daily_reports is a dictionary representing a weather report from one source for a single day.\n",
    "The daily_reports list can have multiple entries for the same day from different sources.\n",
    "Each report dictionary will have the date as a key (in the format of YYYY-MM-DD), and the value is another dictionary with the weather metrics: temperature (in Celsius), humidity (in percentage), and wind speed (in km/h).\n",
    "You need to consolidate these reports by averaging the values from different sources for each metric on each day.\n",
    "Example Input:\n",
    "```python\n",
    "daily_reports = [\n",
    "    {\"2024-04-10\": {\"temperature\": 20, \"humidity\": 30, \"wind_speed\": 10}},\n",
    "    {\"2024-04-10\": {\"temperature\": 22, \"humidity\": 35, \"wind_speed\": 15}},\n",
    "    {\"2024-04-11\": {\"temperature\": 18, \"humidity\": 40, \"wind_speed\": 20}},\n",
    "    {\"2024-04-11\": {\"temperature\": 21, \"humidity\": 42, \"wind_speed\": 25}}\n",
    "]\n",
    "```\n",
    "Expected Output:\n",
    "```python\n",
    "{\n",
    "    \"2024-04-10\": {\"temperature\": 21.0, \"humidity\": 32.5, \"wind_speed\": 12.5},\n",
    "    \"2024-04-11\": {\"temperature\": 19.5, \"humidity\": 41.0, \"wind_speed\": 22.5}\n",
    "}\n",
    "```\n",
    "\n",
    "\n",
    "Hint: Steps to follow:\n",
    "\n",
    "* The function starts by iterating through each daily report in the list.\n",
    "* For each report, it checks if the date is already in the combined data dictionary. If not, it initializes the dictionary for that date with lists of values for each metric.\n",
    "* If the date is already in the dictionary, it appends the metrics to their respective lists.\n",
    "* After collecting all data, it creates another dictionary to calculate the average of the metrics for each date by dividing the sum of each metric by the length of its list.\n",
    "* The function finally returns a dictionary with dates as keys and dictionaries containing the averaged metrics as values."
   ]
  },
  {
   "cell_type": "code",
   "execution_count": 15,
   "id": "93ec3ba4",
   "metadata": {},
   "outputs": [
    {
     "name": "stdout",
     "output_type": "stream",
     "text": [
      "{'2024-04-10': {'temperature': 21.0, 'humidity': 32.5, 'wind_speed': 12.5}, '2024-04-11': {'temperature': 19.5, 'humidity': 41.0, 'wind_speed': 22.5}}\n"
     ]
    }
   ],
   "source": [
    "# I am too lazy for adding comments to explain it. Just ask me on whatsapp 0533 350 46 48\n",
    "def aggregate_weather_data(daily_reports):\n",
    "    all_data = {}\n",
    "\n",
    "    for report in daily_reports:\n",
    "        for date, weather_data in report.items():\n",
    "            if date not in all_data:\n",
    "                all_data[date] = {\n",
    "                    \"temperature\": [],\n",
    "                    \"humidity\": [],\n",
    "                    \"wind_speed\": []\n",
    "                }\n",
    "            all_data[date][\"temperature\"].append(weather_data[\"temperature\"])\n",
    "            all_data[date][\"humidity\"].append(weather_data[\"humidity\"])\n",
    "            all_data[date][\"wind_speed\"].append(weather_data[\"wind_speed\"])\n",
    "\n",
    "    averaged_data = {}\n",
    "\n",
    "    for date, metrics in all_data.items():\n",
    "        averaged_data[date] = {\n",
    "            \"temperature\": sum(metrics[\"temperature\"]) / len(metrics[\"temperature\"]),\n",
    "            \"humidity\": sum(metrics[\"humidity\"]) / len(metrics[\"humidity\"]),\n",
    "            \"wind_speed\": sum(metrics[\"wind_speed\"]) / len(metrics[\"wind_speed\"])\n",
    "        }\n",
    "\n",
    "    return averaged_data\n",
    "\n",
    "daily_reports = [\n",
    "    {\"2024-04-10\": {\"temperature\": 20, \"humidity\": 30, \"wind_speed\": 10}},\n",
    "    {\"2024-04-10\": {\"temperature\": 22, \"humidity\": 35, \"wind_speed\": 15}},\n",
    "    {\"2024-04-11\": {\"temperature\": 18, \"humidity\": 40, \"wind_speed\": 20}},\n",
    "    {\"2024-04-11\": {\"temperature\": 21, \"humidity\": 42, \"wind_speed\": 25}}\n",
    "]\n",
    "\n",
    "result = aggregate_weather_data(daily_reports)\n",
    "print(result)"
   ]
  },
  {
   "cell_type": "code",
   "execution_count": null,
   "id": "e47967a9",
   "metadata": {},
   "outputs": [],
   "source": []
  }
 ],
 "metadata": {
  "kernelspec": {
   "display_name": "Python 3 (ipykernel)",
   "language": "python",
   "name": "python3"
  },
  "language_info": {
   "codemirror_mode": {
    "name": "ipython",
    "version": 3
   },
   "file_extension": ".py",
   "mimetype": "text/x-python",
   "name": "python",
   "nbconvert_exporter": "python",
   "pygments_lexer": "ipython3",
   "version": "3.11.5"
  }
 },
 "nbformat": 4,
 "nbformat_minor": 5
}
