{
 "cells": [
  {
   "cell_type": "markdown",
   "id": "d39753b8",
   "metadata": {},
   "source": [
    "\n",
    "# CS 104 – Spring 2024\n",
    " \n",
    "# Lab Exercises - Week 3\n",
    "\n",
    "Your programs should start with the following comments:  (do not forget to change “[Your Fullname]” with your name)\n",
    "\n",
    "## [Kadir Efe Atçalı], CS 104, LAB Week 3\n"
   ]
  },
  {
   "cell_type": "markdown",
   "id": "468d7968",
   "metadata": {},
   "source": [
    "## Exercise 1: \n",
    "\n",
    "\n",
    "Write a Python program which calculates and prints the volume of a cone.  \n",
    "For a cone with radius r and height h, the volume (V) is given by the following equation:\n",
    "\n",
    "$\\begin{equation}\n",
    "V=\\frac{1}{3}πr^2h\n",
    "\\end{equation}$\n",
    "\n",
    "Your program should calculate the volume of the cone using a function namely **calculate_volume**  which takes the radius and height as parameters and returns the volume to the caller program.  \n",
    "Declare $π$=3.1416 as constant.\n",
    "\n",
    "Print the volume of a sphere for $r$ = 2.5, and $h$ = 2 values.\n"
   ]
  },
  {
   "cell_type": "code",
   "execution_count": 4,
   "id": "0cd2022b",
   "metadata": {},
   "outputs": [
    {
     "name": "stdout",
     "output_type": "stream",
     "text": [
      "the volume of a cone with radius: 2.5, and height: 2 is, 13.089999999999998.\n"
     ]
    }
   ],
   "source": [
    "# Your code (solution) for Exercise 1 starts here\n",
    "r=2.5\n",
    "h=2\n",
    "def calculate_volume(r,h): \n",
    "    pi= 3.1416\n",
    "    volume = (1/3)*pi*h*(r**2)\n",
    "    return(volume)\n",
    "\n",
    "print(\"the volume of a cone with radius: {}, and height: {} is, {}.\".format(r,h,calculate_volume(r,h)))\n",
    "\n",
    "\n",
    "\n",
    "\n"
   ]
  },
  {
   "cell_type": "markdown",
   "id": "ed334aac",
   "metadata": {},
   "source": [
    "## Exercise 2\n",
    "We are given a sequence of numbers as follows:\n",
    "$\\begin{equation}2,\\frac{4}{3},\\frac{6}{9},\\frac{8}{27},\\frac{10}{81},...\n",
    "\\end{equation}$\n",
    "\n",
    "\n",
    "Write a Python program that \n",
    "- first obtains $n$ as input from the user\n",
    "- then prints $n$<sup>th</sup> number in the given sequence within a function namely **print_sequence**\n",
    "that prints $n$<sup>th</sup> number in this sequence. \n",
    "\n",
    "For example \n",
    "- if 2 is entered by the user it will print 1.333... (as a value of 4/3), \n",
    "- if 4 is entered by the user it will print 0.296... (as a value of 8/27), etc. \n",
    "\n",
    "(Hint: You first need to imlement a function computing the output for a given input $n$)\n"
   ]
  },
  {
   "cell_type": "code",
   "execution_count": 3,
   "id": "b651e253",
   "metadata": {},
   "outputs": [
    {
     "name": "stdout",
     "output_type": "stream",
     "text": [
      "wanted term:2\n",
      "2nd term of the sequence is:  1.3333333333333333\n"
     ]
    }
   ],
   "source": [
    "# Your code (solution) for Exercise 2 starts here\n",
    "n = int(input(\"wanted term:\"))\n",
    "\n",
    "def print_sequence(n):\n",
    "    nth_term = (2*n) / (3**(n-1))\n",
    "    \n",
    "    if n==1:\n",
    "        print(\"1st term of the sequence is: \",nth_term) \n",
    "    elif n==2:\n",
    "        print(\"2nd term of the sequence is: \",nth_term)\n",
    "    elif n==3:\n",
    "        print(\"3rd term of the sequence is: \",nth_term)\n",
    "    else:\n",
    "        print(\"{}th term of the sequence is: {} \".format(n,nth_term)) #elif chain's purpose is to be accurute with sequence terms(1st,2nd,8th,etc.) \n",
    "print_sequence(n)\n"
   ]
  },
  {
   "cell_type": "markdown",
   "id": "bc049a59",
   "metadata": {},
   "source": [
    "## Exercise 3\n",
    "Last week in the lab, you had an exercise which calculated the amount each student should pay when renting a house from four different areas in Istanbul. Now, solve the same problem by implementing and calling a function.  \n",
    "\n",
    "Details from the last week are:\n",
    "Three friends are going to rent a house. The possibilities are as follows: Taşdelen: 26000 TL, Çekmeköy: 30000 TL, Üsküdar: 36000 TL and Kadıköy: 40000 TL. Additionally, they will share the monthly contribution (aidat) which is 10% of the rent.\n",
    "\n",
    "\n",
    "First implement a function that calculates the total amount for each friend per mounth for a given area.\n",
    "Then use (call) that function for each given area below.\n",
    "\n",
    "The total amount includes rent and monthly contribution. Name your function **calculateRent** which  \n",
    "- accepts three formal input parameters in the following order: $totalNumberofFriends$, $rentAmount$ and $monthlyContributionRate$, \n",
    "- and it should return the $totalAmount$ to be paid. \n",
    "\n",
    "\n",
    "\n",
    "* Use the last week's values (3 friends, Taşdelen: 26000 TL, Çekmeköy: 30000 TL, Üsküdar: 36000 TL and Kadıköy: 40000 TL and aidat is 10%), you should get the following output:  \n",
    "\n",
    "    Tasdelen:  9533.333333333334  \n",
    "    Cekmekoy:  11000.0  \n",
    "    Uskudar:  13200.0  \n",
    "    Kadikoy:  14666.666666666666  \n",
    "\n",
    "* Now, assume that you have four friends sharing the house and compute the total amount for each friend in that case for Ataşehir (rent: 50000TL, contribution: %20) and Beykoz (rent: 45000TL, contribution: %15). Print the results to the screen.\n",
    "\n",
    "You should get the following output:  \n",
    "\n",
    "    Atasehir: 15000.0\n",
    "    Beykoz:  12937.5"
   ]
  },
  {
   "cell_type": "code",
   "execution_count": 17,
   "id": "503db639",
   "metadata": {},
   "outputs": [
    {
     "name": "stdout",
     "output_type": "stream",
     "text": [
      "tasdelen:  9533.333333333334\n",
      "cekmekoy:  11000.0\n",
      "uskudar:  13200.0\n",
      "kadıkoy:  14666.666666666666\n",
      "atasehir:  15000.0\n",
      "beykoz:  12937.499999999998\n"
     ]
    }
   ],
   "source": [
    "# Your code (solution) for Exercise 3 starts here\n",
    "#rents for cities\n",
    "T=26000\n",
    "C=30000\n",
    "U=36000\n",
    "K=40000\n",
    "A=50000\n",
    "B=45000\n",
    "#Contribution Rate for each case\n",
    "c1=0.10\n",
    "c2=0.15\n",
    "c3=0.2\n",
    "#num of friends in each case\n",
    "f1=3\n",
    "f2=4\n",
    "def calculateRent(totalNumberofFriends,rentAmount,monthlyContributionRate):\n",
    "    totalAmount=  rentAmount*(1+monthlyContributionRate)/totalNumberofFriends\n",
    "    return totalAmount\n",
    "\n",
    "print(\"tasdelen: \",calculateRent(f1,T,c1))\n",
    "print(\"cekmekoy: \",calculateRent(f1,C,c1))\n",
    "print(\"uskudar: \",calculateRent(f1,U,c1))\n",
    "print(\"kadıkoy: \",calculateRent(f1,K,c1))\n",
    "print(\"atasehir: \",calculateRent(f2,A,c3))\n",
    "print(\"beykoz: \",calculateRent(f2,B,c2))\n",
    "\n"
   ]
  },
  {
   "cell_type": "code",
   "execution_count": null,
   "id": "332169ad",
   "metadata": {},
   "outputs": [],
   "source": []
  }
 ],
 "metadata": {
  "celltoolbar": "Raw Cell Format",
  "kernelspec": {
   "display_name": "Python 3 (ipykernel)",
   "language": "python",
   "name": "python3"
  },
  "language_info": {
   "codemirror_mode": {
    "name": "ipython",
    "version": 3
   },
   "file_extension": ".py",
   "mimetype": "text/x-python",
   "name": "python",
   "nbconvert_exporter": "python",
   "pygments_lexer": "ipython3",
   "version": "3.11.5"
  }
 },
 "nbformat": 4,
 "nbformat_minor": 5
}
