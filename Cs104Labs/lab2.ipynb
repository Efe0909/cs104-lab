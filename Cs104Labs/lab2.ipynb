{
 "cells": [
  {
   "cell_type": "code",
   "execution_count": 1,
   "id": "2d753232",
   "metadata": {},
   "outputs": [
    {
     "name": "stdout",
     "output_type": "stream",
     "text": [
      "  *  \n",
      " *** \n",
      "*****\n",
      " *** \n",
      "  *  \n"
     ]
    }
   ],
   "source": [
    "# Kadir Efe Atçalı, CS 104, Spring 2024\n",
    "# This program makes diamond pattern . \n",
    "print(\"  *  \")\n",
    "print(\" *** \")\n",
    "print(\"*****\")\n",
    "print(\" *** \")\n",
    "print(\"  *  \")\n"
   ]
  },
  {
   "cell_type": "code",
   "execution_count": 2,
   "id": "120a7420",
   "metadata": {},
   "outputs": [
    {
     "name": "stdout",
     "output_type": "stream",
     "text": [
      " /\\_/\\  \n",
      "/ o o \\\n",
      "\\  ~  /\n",
      "Hello Efe !\n"
     ]
    }
   ],
   "source": [
    "print( \" /\\_/\\  \")  \n",
    "print( \"/ o o \\\\\" )\n",
    "print(\"\\\\  ~  /\")\n",
    "print(\"Hello Efe !\")"
   ]
  },
  {
   "cell_type": "code",
   "execution_count": 9,
   "id": "5bf4f269",
   "metadata": {},
   "outputs": [
    {
     "name": "stdout",
     "output_type": "stream",
     "text": [
      "input value:300\n",
      "the sum of all numbers from 1 up to 300 is:  45150\n"
     ]
    }
   ],
   "source": [
    "n=int(input(\"input value:\"))\n",
    "sum=int((n+1)*(n/2))\n",
    "print(\"the sum of all numbers from 1 up to 300 is: \",sum)"
   ]
  },
  {
   "cell_type": "code",
   "execution_count": 4,
   "id": "f0dd7372",
   "metadata": {},
   "outputs": [
    {
     "name": "stdout",
     "output_type": "stream",
     "text": [
      "input celcius value:100\n",
      "100.0 degree celcius is 212.0 degrees fahrenheit\n"
     ]
    }
   ],
   "source": [
    "c= float(input(\"input celcius value:\"))\n",
    "f= c * 9 / 5 + 32\n",
    "print(\"{0} degree celcius is {1} degrees fahrenheit\".format(c,f))"
   ]
  },
  {
   "cell_type": "code",
   "execution_count": 7,
   "id": "fa5014cc",
   "metadata": {},
   "outputs": [
    {
     "name": "stdout",
     "output_type": "stream",
     "text": [
      "value of s is:  537.0\n"
     ]
    }
   ],
   "source": [
    "s0= float(12)\n",
    "v0= float(3.5)\n",
    "a0= float(9.8)\n",
    "t=10\n",
    "s= s0+t*v0+0.5*a0*t**2\n",
    "\n",
    "print(\"value of s is: \", s )"
   ]
  },
  {
   "cell_type": "code",
   "execution_count": 6,
   "id": "6eda9339",
   "metadata": {},
   "outputs": [
    {
     "name": "stdout",
     "output_type": "stream",
     "text": [
      "tasdelen:  9533.333333333334\n",
      "cekmekoy:  11000.0\n",
      "uskudar:  13200.0\n",
      "kadıkoy:  14666.666666666666\n"
     ]
    }
   ],
   "source": [
    "tasdelen=26000\n",
    "cekmekoy=30000\n",
    "uskudar=36000\n",
    "kadıkoy=40000\n",
    "op1=tasdelen * 1.1 / 3\n",
    "op2=cekmekoy * 1.1 /3\n",
    "op3=uskudar * 1.1 /3\n",
    "op4=kadıkoy *1.1 /3\n",
    "print(\"tasdelen: \", op1)\n",
    "print(\"cekmekoy: \", op2)\n",
    "print(\"uskudar: \", op3)\n",
    "print(\"kadıkoy: \", op4)"
   ]
  },
  {
   "cell_type": "code",
   "execution_count": null,
   "id": "cf8f06e6",
   "metadata": {},
   "outputs": [],
   "source": []
  }
 ],
 "metadata": {
  "kernelspec": {
   "display_name": "Python 3 (ipykernel)",
   "language": "python",
   "name": "python3"
  },
  "language_info": {
   "codemirror_mode": {
    "name": "ipython",
    "version": 3
   },
   "file_extension": ".py",
   "mimetype": "text/x-python",
   "name": "python",
   "nbconvert_exporter": "python",
   "pygments_lexer": "ipython3",
   "version": "3.11.5"
  }
 },
 "nbformat": 4,
 "nbformat_minor": 5
}
