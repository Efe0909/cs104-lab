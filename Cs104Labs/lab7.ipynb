{
 "cells": [
  {
   "cell_type": "markdown",
   "id": "9kbjcJGsdVyt",
   "metadata": {
    "id": "9kbjcJGsdVyt"
   },
   "source": [
    "# Özyeğin University\n",
    "# CS 104, Week-7 Lab exercises\n",
    "\n",
    "\"Kadir Efe Atçalı\"\n",
    "\n",
    "\"S034150\""
   ]
  },
  {
   "cell_type": "markdown",
   "id": "784d6414",
   "metadata": {
    "id": "784d6414"
   },
   "source": [
    "### Exercise 1\n",
    "- Create a list called top_movies with the following movie titles: \"The Godfather\", \"The Shawshank Redemption\", \"The Dark Knight\", \"The Godfather: Part II\", \"12 Angry Men\"\n",
    "- Print the entire top_movies list\n",
    "- Print the second movie (\"The Shawshank Redemption\") title in top_movies by using its index\n",
    "- Change the third movie title in top_movies to \"Pulp Fiction\"\n",
    "- Print the updated top_movies list\n",
    "- Use a for loop and range() to print each movie title in top_movies on a new line with its corresponding index number in parentheses, starting from 1. \n"
   ]
  },
  {
   "cell_type": "code",
   "execution_count": 27,
   "id": "9affe646",
   "metadata": {
    "id": "9affe646"
   },
   "outputs": [
    {
     "name": "stdout",
     "output_type": "stream",
     "text": [
      "['The Godfather', 'The Shawshank Redemption', 'The Dark Knight', 'The Godfather: Part II', '12 Angry Men']\n",
      "Second Movie Title:  The Shawshank Redemption\n",
      "['The Godfather', 'The Shawshank Redemption', 'Pulp Fiction', 'The Godfather: Part II', '12 Angry Men']\n",
      "Movies List with Index: \n",
      "(0) The Godfather\n",
      "(1) The Shawshank Redemption\n",
      "(2) Pulp Fiction\n",
      "(3) The Godfather: Part II\n",
      "(4) 12 Angry Men\n"
     ]
    }
   ],
   "source": [
    "# Write your program in this cell for Exercise 1.\n",
    "#\n",
    "top_movies = [\"The Godfather\", \"The Shawshank Redemption\", \"The Dark Knight\", \"The Godfather: Part II\", \"12 Angry Men\"]\n",
    "\n",
    "print(top_movies)\n",
    "print()\n",
    "#print 2nd movie\n",
    "print(\"Second Movie Title: \",top_movies[1] )\n",
    "\n",
    "#change 3rd movie to pulp fıctıon\n",
    "top_movies[2] = \"Pulp Fiction\"\n",
    "print(top_movies)\n",
    "print()\n",
    "\n",
    "print(\"Movies List with Index: \")\n",
    "for i in range(len(top_movies)):\n",
    "    print(f\"({i}) {top_movies[i]}\")\n",
    "\n",
    "    \n",
    "\n"
   ]
  },
  {
   "cell_type": "markdown",
   "id": "76a67eff",
   "metadata": {
    "id": "76a67eff"
   },
   "source": [
    "### Exercise 2\n",
    "\n",
    "Write a Python program that creates an empty list and then prompts the user to enter as many integers as the user likes. The user can enter 'q' to quit entering integer numbers. Append each integer entered to the list. Finally, print the list."
   ]
  },
  {
   "cell_type": "code",
   "execution_count": 17,
   "id": "cdc350ae",
   "metadata": {
    "id": "cdc350ae"
   },
   "outputs": [
    {
     "name": "stdout",
     "output_type": "stream",
     "text": [
      "please enter a integer number: 1\n",
      "please enter a integer number: 2\n",
      "please enter a integer number: 3\n",
      "please enter a integer number: 4\n",
      "please enter a integer number: 5\n",
      "please enter a integer number: q\n",
      "all the numbers:  [1, 2, 3, 4, 5]\n"
     ]
    }
   ],
   "source": [
    "# Write your program in this cell for Exercise 2.\n",
    "\n",
    "# Your code assumes that the user can only enter integers or \"q\" from the keyboard. The other cases are not considered in this exercise.\n",
    "new_list=[]\n",
    "while True:\n",
    "    x = input(\"please enter a integer number: \")\n",
    "    if x ==\"q\": \n",
    "        print(\"all the numbers: \", new_list)\n",
    "        break\n",
    "    new_list.append(int(x))"
   ]
  },
  {
   "cell_type": "markdown",
   "id": "a75821a6",
   "metadata": {
    "id": "a75821a6"
   },
   "source": [
    "### Exercise 3\n",
    "In this exercise, you will practice slicing and concatenating lists in Python. You will work with a list of numbers, and perform various operations to extract, modify and combine elements of the list.\n",
    "\n",
    "- Create a list named \"numbers\" with the following values: 10, 20, 30, 40, 50, 60, 70, 80, 90, 100.\n",
    "- Print the first three elements of the list.\n",
    "- Print the last three elements of the list.\n",
    "- Print every second element of the list.\n",
    "- Print the sublist containing the elements from index 3 to index 7 (inclusive).\n",
    "- Replace the element at index 2 with the value 25.\n",
    "- Concatenate two copies of the list together, and store the result in a new list named doubled.\n",
    "- Print the first and last elements of the doubled list."
   ]
  },
  {
   "cell_type": "code",
   "execution_count": 22,
   "id": "544ead40",
   "metadata": {
    "id": "544ead40"
   },
   "outputs": [
    {
     "name": "stdout",
     "output_type": "stream",
     "text": [
      "First three elements are: \n",
      "10\n",
      "20\n",
      "30\n",
      "last three elements are \n",
      "100\n",
      "90\n",
      "80\n",
      "every second element: \n",
      "10\n",
      "30\n",
      "50\n",
      "70\n",
      "90\n",
      "sublist from index 3 to 7 inclusive: \n",
      "40\n",
      "50\n",
      "60\n",
      "70\n",
      "80\n",
      "[10, 20, 25, 40, 50, 60, 70, 80, 90, 100]\n",
      "[10, 20, 25, 40, 50, 60, 70, 80, 90, 100, 10, 20, 25, 40, 50, 60, 70, 80, 90, 100]\n",
      "First element is: 10, last element is: 100 \n"
     ]
    }
   ],
   "source": [
    "# Write your program in this cell for Exercise 3.\n",
    "my_list=[10 * i for i in range(1, 11)]\n",
    "print(\"First three elements are: \")\n",
    "for i in range(0,3): \n",
    "    print(my_list[i])\n",
    "    \n",
    "print(\"last three elements are \")\n",
    "for i in range(9,6,-1):\n",
    "    print(my_list[i])\n",
    "    \n",
    "print(\"every second element: \")\n",
    "for i in range(0,10,2):\n",
    "    print(my_list[i])\n",
    "    \n",
    "print(\"sublist from index 3 to 7 inclusive: \")\n",
    "for i in range(3,8): \n",
    "    print(my_list[i])\n",
    "    \n",
    "my_list[2]=25\n",
    "print(my_list)\n",
    "\n",
    "my_list= my_list + my_list\n",
    "print(my_list)\n",
    "print(f\"First element is: {my_list[0]}, last element is: {my_list[len(my_list) - 1]} \")"
   ]
  },
  {
   "cell_type": "markdown",
   "id": "dce6a756",
   "metadata": {
    "id": "dce6a756"
   },
   "source": [
    "### Exercise 4\n",
    "Create a Python program to manage a grade book. The program should use two lists, one for storing student names and another for storing their corresponding grades.\n",
    "\n",
    "- Create two empty lists: students and grades.\n",
    "- Create a loop that asks the user for the name and grade of a student until the user enters \"q\" to quit. For each student, append their name to the students list and their grade to the grades list.\n",
    "- Create a menu that allows the user to either print the grades of all students or the grade of a specific student. The menu should continue to loop until the user enters \"q\" to quit.\n",
    "- If the user selects \"1\" to print all grades, use a for loop to iterate through the students and grades lists simultaneously and print each student's name and their corresponding grade.\n",
    "- If the user selects \"2\" to print a specific student's grade, ask the user for the name of the student and use the index() function to find the index of the student's name in the students list. Then, use that index to print the student's name and their corresponding grade from the grades list.\n",
    "\n",
    "Note: Make sure to handle errors such as invalid input from the user.\n",
    "\n",
    "**IMPORTANT: DO NOT CHANGE THE GIVEN CODE OR WRITE IT FROM SCRATCH**\n"
   ]
  },
  {
   "cell_type": "code",
   "execution_count": 1,
   "id": "654138ac",
   "metadata": {
    "id": "654138ac"
   },
   "outputs": [
    {
     "name": "stdout",
     "output_type": "stream",
     "text": [
      "Enter student name (q to quit): efe\n",
      "Enter student grade: 100\n",
      "Enter student name (q to quit): arda\n",
      "Enter student grade: 100\n",
      "Enter student name (q to quit): emre\n",
      "Enter student grade: 80\n",
      "Enter student name (q to quit): q\n",
      "\n",
      "Menu:\n",
      "1. Print all grades\n",
      "2. Print a specific student's grade\n",
      "q. Quit\n",
      "Enter your choice: 1\n",
      "efe: 100\n",
      "arda: 100\n",
      "emre: 80\n",
      "\n",
      "Menu:\n",
      "1. Print all grades\n",
      "2. Print a specific student's grade\n",
      "q. Quit\n",
      "Enter your choice: 2\n",
      "Enter students name: efe\n",
      "efe: 100\n",
      "\n",
      "Menu:\n",
      "1. Print all grades\n",
      "2. Print a specific student's grade\n",
      "q. Quit\n",
      "Enter your choice: q\n",
      "Have a nice day!\n"
     ]
    }
   ],
   "source": [
    "# A partial and incomplete solution is given below for this exercise.\n",
    "# Add to the code below to complete the code and to solve this exercise:  \n",
    "\n",
    "# We assume that grades are entered as integer values only.\n",
    "\n",
    "# initialize empty lists for students and grades\n",
    "students = []\n",
    "grades = []\n",
    "\n",
    "# loop to ask for student names and grades\n",
    "while True:\n",
    "    name = input(\"Enter student name\\n (q to quit): \")\n",
    "    if name == \"q\":\n",
    "        break\n",
    "    grade = int(input(\"Enter student grade: \"))\n",
    "    ##### SOLUTION #######\n",
    "    # add grade and student name to their respective lists below: \n",
    "    students.append(name)\n",
    "    grades.append(grade)\n",
    "    \n",
    "#After the grade book creation, open the menu for printing grades. \n",
    "# menu to print grades\n",
    "while True:\n",
    "    print(\"\\nMenu:\")\n",
    "    print(\"1. Print all grades\")\n",
    "    print(\"2. Print a specific student's grade\")\n",
    "    print(\"q. Quit\")\n",
    "    choice = input(\"Enter your choice: \")\n",
    "    \n",
    "    if choice== \"1\":\n",
    "        for i in range(len(students)):\n",
    "            print(f\"{students[i]}: {grades[i]}\")\n",
    "    \n",
    "    elif choice== \"2\":\n",
    "        s= input(\"Enter students name: \")\n",
    "        i= students.index(s)\n",
    "        print(f\"{students[i]}: {grades[i]}\")\n",
    "    elif choice == \"q\": \n",
    "        print(\"Have a nice day!\")\n",
    "        break\n",
    "      \n",
    "  \n",
    "    \n",
    "    # You need to add code below to solve the exercise. \n",
    "    ##### SOLUTION #######\n",
    "\n",
    "    \n",
    "    \n",
    "    \n",
    "    \n",
    "    \n",
    "    "
   ]
  },
  {
   "cell_type": "code",
   "execution_count": null,
   "id": "937a3752",
   "metadata": {},
   "outputs": [],
   "source": []
  },
  {
   "cell_type": "code",
   "execution_count": null,
   "id": "75b66a26",
   "metadata": {},
   "outputs": [],
   "source": []
  }
 ],
 "metadata": {
  "colab": {
   "collapsed_sections": [],
   "provenance": []
  },
  "kernelspec": {
   "display_name": "Python 3 (ipykernel)",
   "language": "python",
   "name": "python3"
  },
  "language_info": {
   "codemirror_mode": {
    "name": "ipython",
    "version": 3
   },
   "file_extension": ".py",
   "mimetype": "text/x-python",
   "name": "python",
   "nbconvert_exporter": "python",
   "pygments_lexer": "ipython3",
   "version": "3.11.5"
  }
 },
 "nbformat": 4,
 "nbformat_minor": 5
}
