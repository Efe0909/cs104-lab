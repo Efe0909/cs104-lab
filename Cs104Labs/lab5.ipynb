{
 "cells": [
  {
   "cell_type": "markdown",
   "id": "ee0f95ee",
   "metadata": {},
   "source": [
    "# CS104 - Lab5 exercises"
   ]
  },
  {
   "cell_type": "markdown",
   "id": "d8b7043e",
   "metadata": {},
   "source": [
    "### Exercise 1:\n",
    "\n",
    "Write a Python program that produce the following output by using a function. Your function should take the number of lines as a parameter. Note that the number of lines is equal to the number of stars in the first line. In each line, the number of stars decreases by 1 until a triangular shape is produced. You should get the number of lines as a user input and use for loops to print the necessary number of lines and stars. You can use print(, end=””) to print without going down to the newline.\n",
    "\n",
    "<code>\n",
    "*****\n",
    "****\n",
    "***\n",
    "**\n",
    "* \n",
    "</code>\n",
    "\n"
   ]
  },
  {
   "cell_type": "code",
   "execution_count": 51,
   "id": "a57bf628",
   "metadata": {},
   "outputs": [
    {
     "name": "stdout",
     "output_type": "stream",
     "text": [
      "input number of lines: 8\n",
      "********\n",
      "*******\n",
      "******\n",
      "*****\n",
      "****\n",
      "***\n",
      "**\n",
      "*\n"
     ]
    }
   ],
   "source": [
    "# Your code goes here\n",
    "n=int(input(\"input number of lines: \"))\n",
    "def star(n):\n",
    "    for i in range(n,0,-1):\n",
    "        for j in range(i):\n",
    "            print(\"*\",end=\"\")\n",
    "\n",
    "        print(\"\",end=\"\\n\")\n",
    "star(n)\n"
   ]
  },
  {
   "cell_type": "markdown",
   "id": "26bd90ab",
   "metadata": {},
   "source": [
    "### Exercise 2\n",
    "\n",
    "Write a Python program that implements a function called factorial. This function should take an integer input as a parameter and print its factorial. You should take an input value from a user by using the <code>input()</code> function in your main program (after defining the function).\n",
    "\n",
    "As an example, for n=5, your code should produce the following output:\n",
    "<code>Factorial of 5 is 120</code>"
   ]
  },
  {
   "cell_type": "code",
   "execution_count": 52,
   "id": "c7f48184",
   "metadata": {},
   "outputs": [
    {
     "name": "stdout",
     "output_type": "stream",
     "text": [
      "insert the number to take the factorial: 5\n",
      "120\n"
     ]
    }
   ],
   "source": [
    "# Your code goes here\n",
    "\n",
    "n=int(input(\"insert the number to take the factorial: \"))\n",
    "def factorial(x):\n",
    "    fact= 1\n",
    "    for i in range(1,x+1):\n",
    "        fact = fact*i\n",
    "    print(fact)\n",
    "factorial(n)\n"
   ]
  },
  {
   "cell_type": "markdown",
   "id": "caa9a449",
   "metadata": {},
   "source": [
    "### Exercise 3\n",
    "\n",
    "Write a Python program that defines a function called <code>isPrimeNumber()</code> which takes a non negative integer number as its argument and returns whether the number is prime or not. \n",
    "\n",
    "For example, when you call <code>isPrimeNumber(4)</code>, it should return False, and when you call <code>isPrimeNumber(7)</code>, it should return True."
   ]
  },
  {
   "cell_type": "code",
   "execution_count": 53,
   "id": "5e791554",
   "metadata": {},
   "outputs": [
    {
     "name": "stdout",
     "output_type": "stream",
     "text": [
      "insert the number to check if prime: 4\n",
      "The number is not prime\n"
     ]
    }
   ],
   "source": [
    "n = int(input(\"insert the number to check if prime: \"))\n",
    "\n",
    "\n",
    "def isPrimeNumber(n):\n",
    "    result = True\n",
    "    for i in range(2, n):  # u can use square root of n {math.sqrt(n)}, instead of n to optimise \n",
    "        if n % i != 0:\n",
    "            continue\n",
    "        else:\n",
    "            result = 0\n",
    "    if result == True:\n",
    "        print(\"The number is prime\")\n",
    "    else:\n",
    "        print(\"The number is not prime\")\n",
    "\n",
    "\n",
    "isPrimeNumber(n)"
   ]
  },
  {
   "cell_type": "markdown",
   "id": "f21d7827",
   "metadata": {},
   "source": [
    "### Exercise 4\n",
    "Write a Python program that calculates and prints the sum of all even and odd numbers in a given range. Your program will take upper and lower values of the range as inputs from the user.  \n",
    "\n",
    "Example run:  \n",
    "<code>Enter the lower value of the range:>? 1  \n",
    "Enter the upper value of the range:>? 20  </code>\n",
    "\n",
    "The output should give the sum of all the even numbers between 1 and 20 as 110 and the sum of all the odd numbers as 100 in the following format:\n",
    "\n",
    "<code>The sum of even numbers between 1 and 20 is 110 and odd numbers is 100 </code>"
   ]
  },
  {
   "cell_type": "code",
   "execution_count": 42,
   "id": "4bb76565",
   "metadata": {},
   "outputs": [
    {
     "name": "stdout",
     "output_type": "stream",
     "text": [
      "insert lower bound of sum: 10\n",
      "insert upper bound of sum: 20\n",
      "The sum of even numbers is: 90 and odd numbers is: 75\n"
     ]
    }
   ],
   "source": [
    "# Your code goes here\n",
    "\n",
    "\n",
    "def sumOfEvenOdd():\n",
    "    n = int(input(\"insert lower bound of sum: \"))\n",
    "    m = int(input(\"insert upper bound of sum: \"))\n",
    "    oddSum = 0\n",
    "    evenSum = 0\n",
    "    for x in range(n, m+1):\n",
    "        if x % 2 == 0:\n",
    "            evenSum += x\n",
    "        else: oddSum += x\n",
    "\n",
    "    print(f\"The sum of even numbers is: {evenSum} and odd numbers is: {oddSum}\")\n",
    "\n",
    "sumOfEvenOdd()\n",
    "\n"
   ]
  },
  {
   "cell_type": "markdown",
   "id": "0138e187",
   "metadata": {},
   "source": [
    "### Exercise 5\n",
    "Write a Python program that uses either for loops or nested for loops to generate the following pattern: \n",
    " 1 2 3 2 1 1 2 1 1\n",
    "\n",
    "Note that the whole pattern appears in a single line. You can use print(, end=””) to print the given input without going down to the newline.\n"
   ]
  },
  {
   "cell_type": "code",
   "execution_count": 50,
   "id": "de5b8d20",
   "metadata": {},
   "outputs": [
    {
     "name": "stdout",
     "output_type": "stream",
     "text": [
      "input the seed for pattern: 3\n",
      "123211211"
     ]
    }
   ],
   "source": [
    "# Your code goes here\n",
    "\n",
    "n = int(input(\"input the seed for pattern: \"))\n",
    "\n",
    "for x in range(n, 0, -1):\n",
    "    for y in range(1,x):\n",
    "        print(y,end=\"\")\n",
    "\n",
    "    for y in range(x, 0, -1):\n",
    "        print(y,end=\"\")\n",
    "\n",
    "\n",
    "\n"
   ]
  },
  {
   "cell_type": "code",
   "execution_count": null,
   "id": "2b733f33",
   "metadata": {},
   "outputs": [],
   "source": []
  }
 ],
 "metadata": {
  "kernelspec": {
   "display_name": "Python 3 (ipykernel)",
   "language": "python",
   "name": "python3"
  },
  "language_info": {
   "codemirror_mode": {
    "name": "ipython",
    "version": 3
   },
   "file_extension": ".py",
   "mimetype": "text/x-python",
   "name": "python",
   "nbconvert_exporter": "python",
   "pygments_lexer": "ipython3",
   "version": "3.11.5"
  }
 },
 "nbformat": 4,
 "nbformat_minor": 5
}
