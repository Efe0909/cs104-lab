{
 "cells": [
  {
   "cell_type": "markdown",
   "id": "6e7f9047",
   "metadata": {
    "id": "6e7f9047"
   },
   "source": [
    "# CS 104 Spring 2024 - Lab Assignments - Week 13 - Assignment 11"
   ]
  },
  {
   "cell_type": "markdown",
   "id": "003ae52b",
   "metadata": {
    "id": "003ae52b"
   },
   "source": [
    "Your programs should start with the following comments:\n",
    "#### [Your Fullname], CS 104, LAB Week 13, Assignment 11\n",
    "#### [short description]\n",
    "\n",
    "(do not forget to change “[Your Fullname]” with your name, and “[short description]”\n",
    " to a sentence that highlights the task to be performed by the program)\n",
    "your outputs as given in the exercise.\n"
   ]
  },
  {
   "cell_type": "markdown",
   "id": "c5ed4c1c",
   "metadata": {
    "id": "c5ed4c1c"
   },
   "source": [
    "### Exercise 1 (FALL 2023 Final Exam Question)\n",
    "\n",
    "Write a program which draws the letter 'L' on the screen by using only the ' * ' character.\n",
    "Your program will ask the user to enter M as the input.\n",
    "The number of ' * ' characters in the vertical and horizontal lines of the letter 'L' will be\n",
    "M.\n",
    "\n",
    "Your program must work for any M value. (Hint: use for loop)\n",
    "\n",
    "Sample run:  \n",
    "Enter M: 5  \n",
    "<code> *</code>  \n",
    "<code> *</code>  \n",
    "<code> *</code>  \n",
    "<code> *</code>    \n",
    "<code> *****</code>  \n"
   ]
  },
  {
   "cell_type": "code",
   "id": "491cd466",
   "metadata": {
    "id": "491cd466",
    "ExecuteTime": {
     "end_time": "2024-05-14T10:12:19.300012Z",
     "start_time": "2024-05-14T10:12:19.293525Z"
    }
   },
   "source": [
    "# Your answer for Exercise 1\n",
    "def L(n):\n",
    "    for i in range(n-1):\n",
    "        print('*')\n",
    "    print('*'*n)\n",
    "\n",
    "L(5)"
   ],
   "outputs": [
    {
     "name": "stdout",
     "output_type": "stream",
     "text": [
      "*\n",
      "*\n",
      "*\n",
      "*\n",
      "*****\n"
     ]
    }
   ],
   "execution_count": 2
  },
  {
   "cell_type": "markdown",
   "id": "0c95eb94",
   "metadata": {
    "id": "0c95eb94"
   },
   "source": [
    "### Exercise 2 (FALL 2023 Final Exam Question)\n",
    "\n",
    "Write a Python program that copies data from a given source file (source.txt) to a target file (target.txt) and prints the number of lines and number of characters in the source file as output. You may assume the source file is already stored in your current working directory."
   ]
  },
  {
   "cell_type": "code",
   "id": "c74cb32f",
   "metadata": {
    "id": "c74cb32f",
    "ExecuteTime": {
     "end_time": "2024-05-14T10:24:30.798961Z",
     "start_time": "2024-05-14T10:24:30.791843Z"
    }
   },
   "source": [
    "# Your answer for Exercise 2\n",
    "# You can use the source.txt file which is also available on LMS for this exercise. (you first need to the download source.txt file under the same folder where your current notebook file is located.)\n",
    "with open('source.txt', 'r') as s:\n",
    "    lines = 0\n",
    "    text = \"\"\"\"\"\"\n",
    "    for line in s:\n",
    "        lines += 1\n",
    "        text += line\n",
    "print(f'{lines = }')\n",
    "print(f'{len(text) = }')\n",
    "with open('target.txt', 'w') as t:\n",
    "    t.write(text)\n",
    "\n",
    " \n"
   ],
   "outputs": [
    {
     "name": "stdout",
     "output_type": "stream",
     "text": [
      "lines = 11\n",
      "len(text) = 217\n"
     ]
    }
   ],
   "execution_count": 19
  },
  {
   "cell_type": "markdown",
   "id": "db6492ee",
   "metadata": {
    "id": "db6492ee"
   },
   "source": [
    "### Exercise 3 (FALL 2023 Final Exam Question)\n",
    "\n",
    "In the lecture, we used binary search to find the index of a key in an ordered list. The binary search method is given below:\n",
    "    \n",
    "Modify the given binary search algorithm to locate the index of a string with a specified length within an ordered list of strings named “stringList”. You will assume that “stringList” is sorted in ascending order based on the lengths of the strings. The parameter length represents the length value of a string.\n",
    "\n",
    "For example;  \n",
    "<code>stringList = [′Boey′,′Baris′,′Icardi′,′ Muslera′,′ N dombele′] and length = 6</code>  ,  your new binary search method will return 2 that is the index of the string ′Icardi′, having a length of 6. If the list contains multiple strings of the same length, the method may return the index of any occurence."
   ]
  },
  {
   "cell_type": "code",
   "id": "41d9bed1",
   "metadata": {
    "id": "41d9bed1",
    "ExecuteTime": {
     "end_time": "2024-05-14T10:33:56.849321Z",
     "start_time": "2024-05-14T10:33:56.839479Z"
    }
   },
   "source": [
    "# Your answer for Exercise 3\n",
    "# Modify the code below\n",
    "\n",
    "def binary_search(arr, x):\n",
    "    arr = list(map(len, arr)) #change every element with just the number of characters it has\n",
    "    low = 0\n",
    "    high = len(arr)-1\n",
    "\n",
    "    while low <= high:\n",
    "        mid = (high + low) // 2\n",
    "        if arr[mid] < x:\n",
    "            low = mid + 1\n",
    "        elif arr[mid] > x:\n",
    "            high = mid - 1\n",
    "        else:\n",
    "            return mid\n",
    "    return -1\n",
    "\n",
    "\n",
    "arr = ['Boey','Baris','Icardi','Muslera','N dombele']\n",
    "result = binary_search(arr, 6)\n",
    "\n",
    "if result != -1:\n",
    "    print(\"Element is present at index\", result)\n",
    "else:\n",
    "    print(\"Element is not present in the list\")"
   ],
   "outputs": [
    {
     "name": "stdout",
     "output_type": "stream",
     "text": [
      "Element is present at index 2\n"
     ]
    }
   ],
   "execution_count": 23
  },
  {
   "cell_type": "markdown",
   "id": "fdfb0745",
   "metadata": {
    "id": "fdfb0745"
   },
   "source": [
    "### Exercise 4 (FALL 2023 Final Exam Question)\n",
    "\n",
    "Assume you want to trade Bitcoin. You are given daily profits/losses from a possible Bitcoin trading as a list input (Positive values mean you make profit, whereas negative values mean you lose money). For instance, assume we are given input list [-1, 3, 5, 7, -6, 8, -15]. This means on the first day, we lose 1 Turkish Lira, whereas on the second day we gained 3 Turkish Lira. Similarly, on the third day, we make extra 5 Turkish Lira, etc. Write a Python method to return the best performance (maximum possible profit). Your method should work for any list. For the input list above, the answer will be 17 = 3 + 5 + 7 - 6 + 8. For this example, the answer is 17 because the maximum profit is gained when you start trading on the second day and trade until the 5th day."
   ]
  },
  {
   "cell_type": "code",
   "id": "f5fed503",
   "metadata": {
    "id": "f5fed503",
    "ExecuteTime": {
     "end_time": "2024-10-22T12:30:03.696848Z",
     "start_time": "2024-10-22T12:30:03.693035Z"
    }
   },
   "source": [
    "# Your answer for Exercise 4\n",
    "\n",
    "\n",
    "def bestSequence(arr):\n",
    "    max_sum = current_sum = arr[0]\n",
    "    \n",
    "    for i in range(1, len(arr)):\n",
    "        if arr[i] > current_sum + arr[i]:\n",
    "            current_sum = arr[i]\n",
    "        else:\n",
    "            current_sum += arr[i]\n",
    "\n",
    "        if current_sum > max_sum:\n",
    "            max_sum = current_sum\n",
    "    \n",
    "    return max_sum\n",
    "\n",
    "\n",
    "    \n",
    "print(bestSequence([-1,3,-2,5,9,-6,8,-15]))\n"
   ],
   "outputs": [
    {
     "name": "stdout",
     "output_type": "stream",
     "text": [
      "17\n"
     ]
    }
   ],
   "execution_count": 2
  },
  {
   "metadata": {},
   "cell_type": "code",
   "outputs": [],
   "execution_count": null,
   "source": "",
   "id": "fadee0242c22ffcb"
  }
 ],
 "metadata": {
  "colab": {
   "provenance": []
  },
  "kernelspec": {
   "display_name": "Python 3 (ipykernel)",
   "language": "python",
   "name": "python3"
  },
  "language_info": {
   "codemirror_mode": {
    "name": "ipython",
    "version": 3
   },
   "file_extension": ".py",
   "mimetype": "text/x-python",
   "name": "python",
   "nbconvert_exporter": "python",
   "pygments_lexer": "ipython3",
   "version": "3.9.15"
  }
 },
 "nbformat": 4,
 "nbformat_minor": 5
}
